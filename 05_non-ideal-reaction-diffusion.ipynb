{
 "cells": [
  {
   "cell_type": "markdown",
   "id": "56ba7c01",
   "metadata": {},
   "source": [
    "### Non-ideal reaction-diffusion systems\n",
    "\n",
    "In the last notebook you learned the basics of phase separation driven by the competition between entropy (favoring mixing) and non-ideal interactions (favoring demixing). In this notebook you will see how first order reactions can introduce patterns of a certain length scale."
   ]
  },
  {
   "cell_type": "code",
   "execution_count": 2,
   "id": "30eacbda",
   "metadata": {},
   "outputs": [],
   "source": [
    "''' Import the packages that we need for this tutorial '''\n",
    "import sys          # sys allows us to add paths to packages\n",
    "import numpy as np  # numpy \n",
    "import matplotlib.pyplot as plt\n",
    "\n",
    "#sys.path.append('../..')  # add the pde package to the python path\n",
    "sys.path.append('/Users/jankirschbaum/Documents/GitHub/D2/py-pde')\n",
    "import pde"
   ]
  },
  {
   "cell_type": "markdown",
   "id": "8fecaf42",
   "metadata": {},
   "source": [
    "We build upon the last notebook, where the concentration field $c(x,y,t)$ describes the state of the system. But now the dynamics are not given by diffusion only, instead the particles can react as well and we introduce a reactive flux $s$ that describes how many $A$ particles are created $s>0$ or destroyed $s<0$ per unit time. In this case the full dynamics are given by\n",
    "\n",
    "\\begin{align}\n",
    "    \\partial_t c(x,y,t) = M\\nabla^2 \\mu (x,y,t) + s(x,y,t)\n",
    "\\end{align}\n",
    "\n",
    "where we assume a constant diffusive mobility $M$.\n",
    "\n",
    "We assume a simple switch between the two particle types $A\\rightleftharpoons B$, where $A\\rightarrow B$ proceeds with rate $k_f$ and $B\\rightarrow A$ with rate $k_b$. The total change of $A$ particles is then given by $s=-k_fc_A + k_bc_B=-k_fc+k_b(1-c)$, using $c_A=c$ and $c_B=1-c_A$. "
   ]
  },
  {
   "cell_type": "markdown",
   "id": "541538e2",
   "metadata": {},
   "source": [
    "### Reactions in a homogeneous mixture\n",
    "\n",
    "We neglect diffusion for now and discuss the reactive flux $s$ only.\n",
    "\n",
    "### Problem 1\n",
    "\n",
    "For constant $k_f$ and $k_b$, calculate the concentration $c_0$ for which $s(c)=-k_f c+k_b(1-c)$ vanishes. Afterwards plot $s(c)$ for $k_f=1$ and $k_b=0.3k_f$. For a given $c(t=0)$ and use it to explain the dynamics $\\partial_t c = -k_f c + k_b(1-c)$.<br>\n",
    "Then determine the slope $-k$ in terms of $k_f$ and $k_b$ and express $s(c)$ in terms of $k$ and $c_0$."
   ]
  },
  {
   "cell_type": "code",
   "execution_count": 4,
   "id": "72f17d48",
   "metadata": {},
   "outputs": [
    {
     "data": {
      "text/plain": [
       "[<matplotlib.lines.Line2D at 0x7fb8a3d94e20>]"
      ]
     },
     "execution_count": 4,
     "metadata": {},
     "output_type": "execute_result"
    },
    {
     "data": {
      "image/png": "[encoded data removed]",
      "text/plain": [
       "<Figure size 432x288 with 1 Axes>"
      ]
     },
     "metadata": {
      "needs_background": "light"
     },
     "output_type": "display_data"
    }
   ],
   "source": [
    "kf = 1\n",
    "kb = 0.3*kf\n",
    "c = np.linspace(0, 1)[1:-1]\n",
    "\n",
    "plt.plot(c,-kf*c+kb*(1-c))"
   ]
  },
  {
   "cell_type": "markdown",
   "id": "81c337b7",
   "metadata": {},
   "source": [
    "### Solution 1\n",
    "\n",
    "For $c>c_0$ $s<0$ so $A$ gets destroyed until $c=c_0$, while $A$ is created for $c<c_0$, so $c_0$ is a stable fixpoint.<br>\n",
    "The slope is $k=k_f+k_b$ and the flux vanishes for $c_0=k_b/(k_f+k_b)$, so $s(c) = -k(c-c_0)$."
   ]
  },
  {
   "cell_type": "code",
   "execution_count": null,
   "id": "90e79d57",
   "metadata": {},
   "outputs": [],
   "source": []
  },
  {
   "cell_type": "code",
   "execution_count": 3,
   "id": "29b99a2a",
   "metadata": {},
   "outputs": [
    {
     "data": {
      "text/plain": [
       "{'c': '0.01*c + laplace(2*c*(c - 1)*(2*c - 1) - laplace(c)) - 0.002'}"
      ]
     },
     "execution_count": 3,
     "metadata": {},
     "output_type": "execute_result"
    }
   ],
   "source": [
    "# define the partial differential equation\n",
    "k = 1.e-2\n",
    "c0 = 0.2\n",
    "eq = pde.PDE({'c': f'laplace(2 * c * (1 - c) * (1 - 2*c) - laplace(c)) + {k} * (c - {c0})'})\n",
    "eq.expressions"
   ]
  },
  {
   "cell_type": "code",
   "execution_count": null,
   "id": "b95ec440",
   "metadata": {},
   "outputs": [],
   "source": []
  }
 ],
 "metadata": {
  "kernelspec": {
   "display_name": "Python 3 (ipykernel)",
   "language": "python",
   "name": "python3"
  },
  "language_info": {
   "codemirror_mode": {
    "name": "ipython",
    "version": 3
   },
   "file_extension": ".py",
   "mimetype": "text/x-python",
   "name": "python",
   "nbconvert_exporter": "python",
   "pygments_lexer": "ipython3",
   "version": "3.8.10"
  }
 },
 "nbformat": 4,
 "nbformat_minor": 5
}
