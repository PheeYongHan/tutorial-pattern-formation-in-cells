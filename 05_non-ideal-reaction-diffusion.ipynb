{
 "cells": [
  {
   "cell_type": "code",
   "execution_count": 1,
   "id": "9539c4af",
   "metadata": {},
   "outputs": [],
   "source": [
    "''' Import the packages that we need for this tutorial '''\n",
    "import sys          # sys allows us to add paths to packages\n",
    "import numpy as np  # numpy \n",
    "import matplotlib.pyplot as plt\n",
    "\n",
    "#sys.path.append('../..')  # add the pde package to the python path\n",
    "sys.path.append('/Users/jankirschbaum/Documents/GitHub/D2/py-pde')\n",
    "import pde"
   ]
  },
  {
   "cell_type": "code",
   "execution_count": null,
   "id": "a240e9a9",
   "metadata": {},
   "outputs": [],
   "source": []
  }
 ],
 "metadata": {
  "kernelspec": {
   "display_name": "Python 3 (ipykernel)",
   "language": "python",
   "name": "python3"
  },
  "language_info": {
   "codemirror_mode": {
    "name": "ipython",
    "version": 3
   },
   "file_extension": ".py",
   "mimetype": "text/x-python",
   "name": "python",
   "nbconvert_exporter": "python",
   "pygments_lexer": "ipython3",
   "version": "3.8.10"
  }
 },
 "nbformat": 4,
 "nbformat_minor": 5
}
