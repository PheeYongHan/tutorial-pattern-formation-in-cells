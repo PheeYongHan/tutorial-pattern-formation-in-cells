{
 "cells": [
  {
   "cell_type": "markdown",
   "id": "6d405493",
   "metadata": {},
   "source": [
    "### Non-ideal reaction-diffusion systems\n",
    "\n",
    "In the last notebook you learned the basics of phase separation driven by the competition between entropy (favoring mixing) and non-ideal interactions (favoring demixing). In this notebook you will see how first order reactions can introduce patterns of a certain length scale."
   ]
  },
  {
   "cell_type": "code",
   "execution_count": 2,
   "id": "dd2abe0b",
   "metadata": {},
   "outputs": [],
   "source": [
    "''' Import the packages that we need for this tutorial '''\n",
    "import sys          # sys allows us to add paths to packages\n",
    "import numpy as np  # numpy \n",
    "import matplotlib.pyplot as plt\n",
    "\n",
    "#sys.path.append('../..')  # add the pde package to the python path\n",
    "sys.path.append('/Users/jankirschbaum/Documents/GitHub/D2/py-pde')\n",
    "import pde"
   ]
  },
  {
   "cell_type": "code",
   "execution_count": null,
   "id": "6c9cce7b",
   "metadata": {},
   "outputs": [],
   "source": []
  },
  {
   "cell_type": "code",
   "execution_count": null,
   "id": "dac54d99",
   "metadata": {},
   "outputs": [],
   "source": []
  },
  {
   "cell_type": "code",
   "execution_count": null,
   "id": "c878b5d1",
   "metadata": {},
   "outputs": [],
   "source": []
  },
  {
   "cell_type": "code",
   "execution_count": 3,
   "id": "8b342f54",
   "metadata": {},
   "outputs": [
    {
     "data": {
      "text/plain": [
       "{'c': '0.01*c + laplace(2*c*(c - 1)*(2*c - 1) - laplace(c)) - 0.002'}"
      ]
     },
     "execution_count": 3,
     "metadata": {},
     "output_type": "execute_result"
    }
   ],
   "source": [
    "# define the partial differential equation\n",
    "k = 1.e-2\n",
    "c0 = 0.2\n",
    "eq = pde.PDE({'c': f'laplace(2 * c * (1 - c) * (1 - 2*c) - laplace(c)) + {k} * (c - {c0})'})\n",
    "eq.expressions"
   ]
  },
  {
   "cell_type": "code",
   "execution_count": null,
   "id": "220afe1a",
   "metadata": {},
   "outputs": [],
   "source": []
  }
 ],
 "metadata": {
  "kernelspec": {
   "display_name": "Python 3 (ipykernel)",
   "language": "python",
   "name": "python3"
  },
  "language_info": {
   "codemirror_mode": {
    "name": "ipython",
    "version": 3
   },
   "file_extension": ".py",
   "mimetype": "text/x-python",
   "name": "python",
   "nbconvert_exporter": "python",
   "pygments_lexer": "ipython3",
   "version": "3.8.10"
  }
 },
 "nbformat": 4,
 "nbformat_minor": 5
}
