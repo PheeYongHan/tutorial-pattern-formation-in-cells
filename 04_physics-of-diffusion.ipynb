{
 "cells": [
  {
   "cell_type": "code",
   "execution_count": null,
   "id": "6af6e5c4",
   "metadata": {},
   "outputs": [],
   "source": [
    "# This notebook requires py-pde in version 0.17.1 or later\n",
    "# The package can be obtained from https://github.com/zwicker-group/py-pde\n",
    "# Alternatively, it can be installed via pip or conda\n",
    "\n",
    "import pde\n",
    "\n",
    "# plotting functions\n",
    "import matplotlib.pyplot as plt\n",
    "import numpy as np"
   ]
  },
  {
   "cell_type": "markdown",
   "id": "14f2e193",
   "metadata": {},
   "source": [
    "So far, we have looked at simple diffusion ($\\nabla^2 c$), where patterns arose from non-linear reactions.\n",
    "\n",
    "Next, we want to go beyond simple diffusion. We will see that patterns can then arise even from linear reactions."
   ]
  },
  {
   "cell_type": "markdown",
   "id": "7a3a6851",
   "metadata": {},
   "source": [
    "# Physics of simple diffusion\n",
    "\n",
    "To understand more complex cases, let us first investigate the physics of simple diffusion.\n",
    "Simple diffusion is a good description of dilute solutions or ideal gases."
   ]
  },
  {
   "cell_type": "markdown",
   "id": "1bade711",
   "metadata": {},
   "source": [
    "## Thermodynamics of ideal solutions\n",
    "\n",
    "Let us consider $N$ particles in a volume $V$ at fixed temperature $T$.\n",
    "We then know (from Statistical Mechanics):\n",
    "\n",
    "- the free energy $F=k_\\mathrm{B}T N\\left[\\ln\\frac{N}{V} + a \\right]$\n",
    "- the chemical potential $\\mu = \\left(\\frac{\\partial F}{\\partial N}\\right)_{V,T} = k_\\mathrm{B}T \\ln\\frac{N}{V} + \\mu_0 $\n",
    "\n",
    "Defining the concentration $c=\\frac{N}{V}$, we find the simpler expression\n",
    "\\begin{align}\n",
    "\\mu = k_\\mathrm{B}T \\ln c + \\mu_0\n",
    "\\end{align}"
   ]
  },
  {
   "cell_type": "markdown",
   "id": "bf9b89da",
   "metadata": {},
   "source": [
    "### Problem 1: Chemical potential of ideal solutions\n",
    "Plot the chemical potential $\\mu$ as a function of $c$. Can you interpret the qualitative functional form?"
   ]
  },
  {
   "cell_type": "markdown",
   "id": "752e910b",
   "metadata": {},
   "source": [
    "### Solution 1"
   ]
  },
  {
   "cell_type": "code",
   "execution_count": null,
   "id": "f43c6b32",
   "metadata": {},
   "outputs": [],
   "source": [
    "cs = np.linspace(1, 10)\n",
    "plt.plot(cs, %% BLANK %%)\n",
    "plt.xlabel('Concentration $c$')\n",
    "plt.ylabel(r'Chemical potential $\\mu$');"
   ]
  },
  {
   "cell_type": "markdown",
   "id": "6aa8446f",
   "metadata": {},
   "source": [
    "## Dynamics of an inhomogeneous system\n",
    "An inhomogeneous system can be described by a concentration field $c(x, y, t)$. We will demonstrate that the dynamics of such a system are given by\n",
    "\n",
    "\\begin{align}\n",
    "    \\partial_t c(x, y, t) = \\nabla\\bigl[M(c) \\nabla c(x, y, t) \\bigr]\n",
    "\\end{align}"
   ]
  },
  {
   "cell_type": "markdown",
   "id": "400278ab",
   "metadata": {},
   "source": [
    "### Problem 2: Dynamics of ideal solutions\n",
    "Use the chemical potential $\\mu = k_\\mathrm{B}T \\ln c + \\mu_0$ and the mobility function $M(c) = M_0 c$ to derive the dynamics of ideal solutions"
   ]
  },
  {
   "cell_type": "markdown",
   "id": "074c1188",
   "metadata": {},
   "source": [
    "### Solution 2\n",
    "You should find the simple diffusion equation with diffusivity $D=M_0 k_\\mathrm{B} T$."
   ]
  },
  {
   "cell_type": "markdown",
   "id": "41f220b6",
   "metadata": {},
   "source": [
    "# Physics of non-ideal solutions\n",
    "We saw that the physics of ideal solutions, which consist of non-interacting particles, leads to simple diffusion.\n",
    "We next consider a simple model of non-ideal solutions, where particles will interact."
   ]
  },
  {
   "cell_type": "markdown",
   "id": "ec0f352c",
   "metadata": {},
   "source": [
    "## Thermodynamics of non-ideal solutions\n",
    "We start by deriving the free energy of such solutions, which comprises entropic and enthalpic contributions."
   ]
  },
  {
   "cell_type": "markdown",
   "id": "4fe611ea",
   "metadata": {},
   "source": [
    "### Problem 3: Entropic contributions\n",
    "Visualize the entropic contributions\n",
    "\n",
    "\\begin{align}\n",
    "    F_\\mathrm{S} = k_\\mathrm{B} N \\left[\\phi\\ln\\phi + (1 - \\phi)\\ln(1-\\phi)\\right]\n",
    "\\end{align}"
   ]
  },
  {
   "cell_type": "code",
   "execution_count": null,
   "id": "6b7f0ca4",
   "metadata": {},
   "outputs": [],
   "source": [
    "cs = np.linspace(0, 1)[1:-1]\n",
    "plt.plot(cs, %% BLANK %%)\n",
    "plt.xlabel('Fraction $\\phi$')\n",
    "plt.ylabel(r'Entropic contributions $F_\\mathrm{S}$');"
   ]
  },
  {
   "cell_type": "markdown",
   "id": "7198c38d",
   "metadata": {},
   "source": [
    "### Solution 3\n",
    "Entropic contributions are maximal when fraction $\\phi$ is very small or very large $\\Rightarrow$ Entropy favors mixing"
   ]
  },
  {
   "cell_type": "markdown",
   "id": "4136b873",
   "metadata": {},
   "source": [
    "### Problem 4: Enthalpic contributions\n",
    "Visualize the enthalpic contributions\n",
    "\n",
    "\n",
    "\\begin{align}\n",
    "    F_\\mathrm{I} = k_\\mathrm{B} N \\chi \\phi (1 - \\phi)\n",
    "\\end{align}"
   ]
  },
  {
   "cell_type": "code",
   "execution_count": null,
   "id": "fe027c8a",
   "metadata": {},
   "outputs": [],
   "source": [
    "cs = np.linspace(0, 1)[1:-1]\n",
    "plt.plot(cs, %% BLANK %%)\n",
    "plt.xlabel('Fraction $\\phi$')\n",
    "plt.ylabel(r'Enthalpic contributions $F_\\mathrm{S}$');"
   ]
  },
  {
   "cell_type": "markdown",
   "id": "06d3624d",
   "metadata": {},
   "source": [
    "### Solution 4\n",
    "The enthalpic contributions are maximal when $\\phi = \\frac12$ $\\Rightarrow$ Enthalpic favors de-mixing"
   ]
  },
  {
   "cell_type": "markdown",
   "id": "b589f50c",
   "metadata": {},
   "source": [
    "### Problem 5: Total free energy\n",
    "Visualize the total (Flory-Huggins) free energy \n",
    "\n",
    "\\begin{align}\n",
    "    F = k_\\mathrm{B} N \\left[\\phi\\ln\\phi + (1 - \\phi)\\ln(1-\\phi) + \\chi\\phi(1 - \\phi)\\right]\n",
    "\\end{align}\n",
    "\n",
    "for $\\chi = 1.5$ and $\\chi = 2.5$. What do you notice?"
   ]
  },
  {
   "cell_type": "code",
   "execution_count": null,
   "id": "045f48aa",
   "metadata": {},
   "outputs": [],
   "source": [
    "cs = np.linspace(0, 1)[1:-1]\n",
    "plt.plot(cs, %% BLANK %%, label='$\\chi= VALUE$')\n",
    "plt.plot(cs, %% BLANK %%, label='$\\chi= VALUE$')\n",
    "plt.xlabel('Fraction $\\phi$')\n",
    "plt.ylabel(r'Free energy $F$')\n",
    "plt.legend();"
   ]
  },
  {
   "cell_type": "markdown",
   "id": "e28e6f59",
   "metadata": {},
   "source": [
    "### Solution 5\n",
    "The free energy develops a local maximum at $\\phi=\\frac12$ for $\\chi > 2$\n",
    "\n",
    "$\\Rightarrow$ There are then two values of the fraction $\\phi$ with minimal f\n",
    "\n",
    "$\\Rightarrow$ The system can lower its free energy by splitting into two regions with these two compositions (Phase separation!)"
   ]
  },
  {
   "cell_type": "markdown",
   "id": "4a07c9ed",
   "metadata": {},
   "source": [
    "## Simplified free energy of non-ideal solutions\n",
    "Instead of using the Flory-Huggins free energy, we will use the simpler polynomial form\n",
    "\n",
    "\\begin{align}\n",
    "    F = a V \\phi^2 ( 1- \\phi^2)\n",
    "\\end{align}"
   ]
  },
  {
   "cell_type": "markdown",
   "id": "aabcb27f",
   "metadata": {},
   "source": [
    "### Problem 6: Visualize the free energy and the chemical potential\n",
    "The chemical potential reads\n",
    "\\begin{align}\n",
    "    \\mu \\propto \\phi (1 - \\phi) (1 - 2 \\phi)\n",
    "\\end{align}"
   ]
  },
  {
   "cell_type": "code",
   "execution_count": null,
   "id": "2b433443",
   "metadata": {},
   "outputs": [],
   "source": [
    "cs = np.linspace(0, 1)[1:-1]\n",
    "plt.plot(cs, %% BLANK %%)\n",
    "plt.xlabel('Fraction $\\phi$')\n",
    "plt.ylabel(r'Free energy $F$');"
   ]
  },
  {
   "cell_type": "code",
   "execution_count": null,
   "id": "a5447be3",
   "metadata": {},
   "outputs": [],
   "source": [
    "cs = np.linspace(0, 1)[1:-1]\n",
    "plt.plot(cs, %% BLANK %%)\n",
    "plt.xlabel('Fraction $\\phi$')\n",
    "plt.ylabel(r'Chemical potential $\\mu$');"
   ]
  },
  {
   "cell_type": "markdown",
   "id": "f38f0a1c",
   "metadata": {},
   "source": [
    "### Solution 6\n",
    "The free energy has two minima (at $\\phi=0,1$) and looks qualitatively similar to the Flory-Huggins free energy in the phase separating regime.\n",
    "\n",
    "The chemical potential is non-monotonic $\\Rightarrow$ Different compositions can have the same chemical potential. In particular, the fractions $\\phi=0$ and $\\phi=1$ both have vanishing chemical potential. Remember that two regions with equal chemical potential are in thermodynamic equilibrium!"
   ]
  },
  {
   "cell_type": "markdown",
   "id": "4b4a7bbf",
   "metadata": {},
   "source": [
    "## Naive dynamics of non-ideal solutions\n",
    "To obtain the dynamics of non-ideal solutions, we next combine the generalized diffusion equation with the chemical potential of a non-ideal solution."
   ]
  },
  {
   "cell_type": "markdown",
   "id": "add8d9dd",
   "metadata": {},
   "source": [
    "### Problem 7: Naive dynamics of non-ideal solutions\n",
    "Simulate the dynamics of the non-ideal solution using `py-pde`.\n",
    "Start with a random initial condition and observe the behavior over time.\n",
    "\n",
    "What do you observe in the dynamics and the final state?"
   ]
  },
  {
   "cell_type": "code",
   "execution_count": null,
   "id": "fe07ab78",
   "metadata": {},
   "outputs": [],
   "source": [
    "# prepare a random initial state\n",
    "grid = pde.UnitGrid([32, 32])\n",
    "initial_state = pde.ScalarField.random_uniform(grid, vmin=0, vmax=1)\n",
    "initial_state.plot();"
   ]
  },
  {
   "cell_type": "code",
   "execution_count": null,
   "id": "2446ac07",
   "metadata": {},
   "outputs": [],
   "source": [
    "# define the partial differential equation\n",
    "eq = pde.PDE({'c': '%% BLANK %%'})\n",
    "eq.expressions"
   ]
  },
  {
   "cell_type": "code",
   "execution_count": null,
   "id": "9ca091ac",
   "metadata": {},
   "outputs": [],
   "source": [
    "# simulate the dynamics\n",
    "eq.solve(initial_state, t_range=100, backend='numpy', tracker=['progress', 'plot']);"
   ]
  },
  {
   "cell_type": "markdown",
   "id": "8bef3c94",
   "metadata": {},
   "source": [
    "### Solution 7\n",
    "Each cell in the simulation attains a concentration of either $0$ or $1$ – this is phase separation!\n",
    "\n",
    "However, no large scale structures are visible and certainly no droplets form."
   ]
  },
  {
   "cell_type": "markdown",
   "id": "ff079625",
   "metadata": {},
   "source": [
    "## The gradient term\n",
    "It turns out that our naive approach above neglects an important physics process, namely that it is energetically costly to have two regions of very different composition next to each other. Formally, this can be included in our description by adding a term $\\frac{\\kappa}{2} |\\nabla c|^2$ to the free energy, which needs to be integrated over the entire volume. However, since analyzing this term would require functional analysis, we here simply use its consequence, which is to modify the chemical potential like so,\n",
    "\n",
    "\\begin{align}\n",
    "    \\mu \\propto \\phi (1 - \\phi) (1 - 2 \\phi) - \\kappa \\nabla^2 c\n",
    "\\end{align}"
   ]
  },
  {
   "cell_type": "markdown",
   "id": "b3143c97",
   "metadata": {},
   "source": [
    "### Problem 8: Improved dynamics of non-ideal solutions\n",
    "Simulate the dynamics of the non-ideal solution using the improved chemical potential with $\\kappa=1$.\n",
    "Start with a random initial condition and observe the behavior over time.\n",
    "\n",
    "What do you observe in the dynamics and the final state?"
   ]
  },
  {
   "cell_type": "code",
   "execution_count": null,
   "id": "b9eb1698",
   "metadata": {},
   "outputs": [],
   "source": [
    "# prepare a random initial state\n",
    "grid = pde.UnitGrid([32, 32])\n",
    "initial_state = pde.ScalarField.random_uniform(grid, vmin=0, vmax=1)\n",
    "initial_state.plot();"
   ]
  },
  {
   "cell_type": "code",
   "execution_count": null,
   "id": "1d672573",
   "metadata": {},
   "outputs": [],
   "source": [
    "# define the partial differential equation\n",
    "eq = pde.PDE({'c': '%% BLANK %%'})\n",
    "eq.expressions"
   ]
  },
  {
   "cell_type": "code",
   "execution_count": null,
   "id": "1770c491",
   "metadata": {},
   "outputs": [],
   "source": [
    "# simulate the dynamics\n",
    "eq.solve(initial_state, t_range=100, backend='numpy', tracker=['progress', 'plot']);"
   ]
  },
  {
   "cell_type": "markdown",
   "id": "87a36125",
   "metadata": {},
   "source": [
    "### Solution 8\n",
    "We now have proper phase separation, although the structures still look a bit funny"
   ]
  },
  {
   "cell_type": "markdown",
   "id": "62a86f61",
   "metadata": {},
   "source": [
    "### Problem 9\n",
    "Re-run the simulation with a initial condition where particles $A$ occupy $25\\%$ and particles B occupy $75\\%$ of the system."
   ]
  },
  {
   "cell_type": "code",
   "execution_count": null,
   "id": "b521f1fb",
   "metadata": {},
   "outputs": [],
   "source": [
    "# prepare a random initial state\n",
    "initial_state = %% BLANK %%\n",
    "initial_state.plot();"
   ]
  },
  {
   "cell_type": "code",
   "execution_count": null,
   "id": "dea5d1ca",
   "metadata": {},
   "outputs": [],
   "source": [
    "# simulate the dynamics\n",
    "eq.solve(initial_state, t_range=100, backend='numpy', tracker=['progress', 'plot']);"
   ]
  },
  {
   "cell_type": "markdown",
   "id": "e33eadf6",
   "metadata": {},
   "source": [
    "### Solution 9\n",
    "We finally have proper droplets forming!"
   ]
  }
 ],
 "metadata": {
  "kernelspec": {
   "display_name": "python3-conda",
   "language": "python",
   "name": "python3-conda"
  },
  "language_info": {
   "codemirror_mode": {
    "name": "ipython",
    "version": 3
   },
   "file_extension": ".py",
   "mimetype": "text/x-python",
   "name": "python",
   "nbconvert_exporter": "python",
   "pygments_lexer": "ipython3",
   "version": "3.9.7"
  },
  "toc": {
   "base_numbering": 1,
   "nav_menu": {},
   "number_sections": true,
   "sideBar": true,
   "skip_h1_title": false,
   "title_cell": "Table of Contents",
   "title_sidebar": "Contents",
   "toc_cell": false,
   "toc_position": {
    "height": "calc(100% - 180px)",
    "left": "10px",
    "top": "150px",
    "width": "336px"
   },
   "toc_section_display": true,
   "toc_window_display": true
  }
 },
 "nbformat": 4,
 "nbformat_minor": 5
}
